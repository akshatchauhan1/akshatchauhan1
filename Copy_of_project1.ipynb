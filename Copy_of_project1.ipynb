{
  "cells": [
    {
      "cell_type": "markdown",
      "metadata": {
        "id": "view-in-github",
        "colab_type": "text"
      },
      "source": [
        "<a href=\"https://colab.research.google.com/github/akshatchauhan1/akshatchauhan1/blob/main/Copy_of_project1.ipynb\" target=\"_parent\"><img src=\"https://colab.research.google.com/assets/colab-badge.svg\" alt=\"Open In Colab\"/></a>"
      ]
    },
    {
      "cell_type": "markdown",
      "metadata": {
        "id": "WH9VymR8dI3r"
      },
      "source": [
        "Project: Air Quality Monitoring and Prediction"
      ]
    },
    {
      "cell_type": "code",
      "execution_count": null,
      "metadata": {
        "id": "tN-otbVedHDu"
      },
      "outputs": [],
      "source": [
        "import pandas as pd\n",
        "import requests\n",
        "from sklearn.model_selection import train_test_split\n",
        "from sklearn.ensemble import RandomForestRegressor\n",
        "from sklearn.metrics import mean_squared_error"
      ]
    },
    {
      "cell_type": "code",
      "source": [
        "import pandas as pd\n",
        "import requests\n",
        "from sklearn.model_selection import train_test_split\n",
        "from sklearn.ensemble import RandomForestRegressor\n",
        "from sklearn.metrics import mean_squared_error\n",
        "\n",
        "# --- 1. Data Collection ---\n",
        "def fetch_air_quality_data(city, api_key):\n",
        "    \"\"\"Fetches air quality data from an API.\"\"\"\n",
        "    #The URL was not an API endpoint, it was a link to a Kaggle dataset\n",
        "    #Kaggle datasets are not returned as JSON\n",
        "    #This example will use a different API that returns JSON\n",
        "    url = f\"https://api.iqair.com/v1/airquality?city=New%20York&apiKey=4f6a40ad-f170-4ecb-b017-a70e15bd9f3b\"\n",
        "    response = requests.get(url, verify=False)\n",
        "    if response.status_code == 200:\n",
        "        data = response.json()\n",
        "        return data['list'][0]['components']\n",
        "    else:\n",
        "        print(f\"Error fetching data: {response.status_code}\")\n",
        "        return None\n",
        "\n",
        "# --- 2. Data Preprocessing ---\n",
        "def preprocess_data(pollution_data):\n",
        "    \"\"\"Cleans and formats the fetched air quality data.\"\"\"\n",
        "    if pollution_data is None:\n",
        "        return None\n",
        "\n",
        "    # Example: Extract relevant pollutants and create a DataFrame\n",
        "    data = {\n",
        "        'co': pollution_data['co'],\n",
        "        'no': pollution_data['no'],\n",
        "        'no2': pollution_data['no2'],\n",
        "        'o3': pollution_data['o3'],\n",
        "        'so2': pollution_data['so2'],\n",
        "        'pm2_5': pollution_data['pm2_5'],\n",
        "        'pm10': pollution_data['pm10'],\n",
        "        'nh3': pollution_data['nh3'],\n",
        "    }\n",
        "    df = pd.DataFrame([data])\n",
        "    return df\n",
        "\n",
        "# --- 3. Model Training ---\n",
        "def train_model(data):\n",
        "    \"\"\"Trains a machine learning model to predict air quality.\"\"\"\n",
        "    if data is None or data.empty:\n",
        "        print(\"No data available for training.\")\n",
        "        return None\n",
        "\n",
        "    # Example: Using 'co' as the target variable and others as features\n",
        "    X = data[['no', 'no2', 'o3', 'so2', 'pm2_5', 'pm10', 'nh3']]\n",
        "    y = data['co']\n",
        "\n",
        "    X_train, X_test, y_train, y_test = train_test_split(X, y, test_size=0.2, random_state=42)\n",
        "\n",
        "    model = RandomForestRegressor()\n",
        "    model.fit(X_train, y_train)\n",
        "    return model\n",
        "\n",
        "# --- 4. Prediction ---\n",
        "def predict_air_quality(model, new_data):\n",
        "    \"\"\"Predicts air quality using the trained model.\"\"\"\n",
        "    if model is None:\n",
        "        print(\"Model not trained. Cannot predict.\")\n",
        "        return None\n",
        "\n",
        "    predictions = model.predict(new_data)\n",
        "    return predictions\n",
        "\n",
        "# --- Main Execution ---\n",
        "if __name__ == \"__main__\":\n",
        "    # Replace with your actual API key\n",
        "    api_key = \"4f6a40ad-f170-4ecb-b017-a70e15bd9f3b\" #This needs to be a valid key from IQAir\n",
        "\n",
        "    # Fetch data for a specific city\n",
        "    city_name = \"San Francisco\"\n",
        "    pollution_data = fetch_air_quality_data(city_name, api_key)\n",
        "\n",
        "    # Preprocess the data\n",
        "    df = preprocess_data(pollution_data)\n",
        "\n",
        "    # Train the model (if data is available)\n",
        "    model = train_model(df)\n",
        "\n",
        "    # Example new data for prediction (replace with actual data)\n",
        "    new_data = pd.DataFrame({\n",
        "        'no': [10],\n",
        "        'no2': [50],\n",
        "        'o3': [20],\n",
        "        'so2': [20],\n",
        "        'pm2_5': [20],\n",
        "        'pm10': [20],\n",
        "        'nh3': [20],\n",
        "    })\n",
        "\n",
        "    # Make predictions (if model is trained)\n",
        "    predictions = predict_air_quality(model, new_data)"
      ],
      "metadata": {
        "colab": {
          "base_uri": "https://localhost:8080/"
        },
        "id": "AmVZQ1WMr47x",
        "outputId": "aac24db2-5ee6-45d6-db49-8101d7df40af"
      },
      "execution_count": null,
      "outputs": [
        {
          "output_type": "stream",
          "name": "stdout",
          "text": [
            "Error fetching data: 400\n",
            "No data available for training.\n",
            "Model not trained. Cannot predict.\n"
          ]
        },
        {
          "output_type": "stream",
          "name": "stderr",
          "text": [
            "/usr/local/lib/python3.10/dist-packages/urllib3/connectionpool.py:1100: InsecureRequestWarning: Unverified HTTPS request is being made to host 'api.iqair.com'. Adding certificate verification is strongly advised. See: https://urllib3.readthedocs.io/en/latest/advanced-usage.html#tls-warnings\n",
            "  warnings.warn(\n"
          ]
        }
      ]
    }
  ],
  "metadata": {
    "colab": {
      "provenance": [],
      "authorship_tag": "ABX9TyMPY2Icm2tZxeCjO52h6ZOF",
      "include_colab_link": true
    },
    "kernelspec": {
      "display_name": "Python 3",
      "name": "python3"
    },
    "language_info": {
      "name": "python"
    }
  },
  "nbformat": 4,
  "nbformat_minor": 0
}